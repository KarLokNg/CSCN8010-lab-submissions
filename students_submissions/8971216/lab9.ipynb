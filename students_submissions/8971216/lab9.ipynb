{
 "cells": [
  {
   "cell_type": "code",
   "execution_count": 67,
   "metadata": {},
   "outputs": [],
   "source": [
    "from tensorflow import keras\n",
    "from tensorflow.keras.datasets import mnist\n",
    "from tensorflow.keras import layers\n",
    "import numpy as np\n",
    "import matplotlib.pyplot as plt\n",
    "import tensorflow as tf\n"
   ]
  },
  {
   "cell_type": "code",
   "execution_count": 6,
   "metadata": {},
   "outputs": [],
   "source": [
    "# loading the data\n",
    "(train_images, train_labels), (test_images, test_labels) = mnist.load_data()"
   ]
  },
  {
   "cell_type": "code",
   "execution_count": 41,
   "metadata": {},
   "outputs": [
    {
     "name": "stdout",
     "output_type": "stream",
     "text": [
      "0\n",
      "0\n",
      "[0 1 2 3 4 5 6 7 8 9]\n",
      "255\n"
     ]
    },
    {
     "data": {
      "image/png": "[encoded data removed]",
      "text/plain": [
       "<Figure size 640x480 with 1 Axes>"
      ]
     },
     "metadata": {},
     "output_type": "display_data"
    }
   ],
   "source": [
    "# data exploration\n",
    "train_images.shape\n",
    "# we have 60,000 observations, each 28x28\n",
    "\n",
    "train_labels.shape\n",
    "# labels are 1D (i.e. a scalar)\n",
    "\n",
    "print(sum(sum(sum(np.isnan(train_images)))))\n",
    "print(sum(sum(sum(np.isnan(test_images)))))\n",
    "# no NaNs within the training data set or test data set\n",
    "\n",
    "unique_vals, counts = np.unique(train_labels, return_counts= True)\n",
    "print(unique_vals)\n",
    "plt.bar(unique_vals, counts)\n",
    "# we have 10 unique classes -> our model should have 10 output nodes in the final layer\n",
    "# relatively evenly in terms of class balance\n",
    "\n",
    "print(np.max(train_images[0]) - np.min(train_images[0]))\n",
    "# range of values is 0 to 255. Looking at mnist data set, this represents the value of\n",
    "# intensity of that specific pixel (0 being fully white, 255 being fully black)\n",
    "\n",
    "# transform for performance sake\n",
    "train_images = train_images.reshape((60000, 28, 28, 1))\n",
    "train_images = train_images.astype(\"float32\") / 255\n",
    "test_images = test_images.reshape((10000, 28, 28, 1))\n",
    "test_images = test_images.astype(\"float32\") / 255"
   ]
  },
  {
   "cell_type": "code",
   "execution_count": 70,
   "metadata": {},
   "outputs": [
    {
     "name": "stdout",
     "output_type": "stream",
     "text": [
      "Epoch 1/5\n",
      "469/469 [==============================] - 86s 183ms/step - loss: 0.3680 - accuracy: 0.8932\n",
      "Epoch 2/5\n",
      "469/469 [==============================] - 86s 184ms/step - loss: 0.2932 - accuracy: 0.9177\n",
      "Epoch 3/5\n",
      "469/469 [==============================] - 85s 181ms/step - loss: 0.2748 - accuracy: 0.9227\n",
      "Epoch 4/5\n",
      "469/469 [==============================] - 85s 182ms/step - loss: 0.2517 - accuracy: 0.9301\n",
      "Epoch 5/5\n",
      "469/469 [==============================] - 85s 181ms/step - loss: 0.2266 - accuracy: 0.9368\n"
     ]
    },
    {
     "data": {
      "text/plain": [
       "<keras.src.callbacks.History at 0x3f6cd86d0>"
      ]
     },
     "execution_count": 70,
     "metadata": {},
     "output_type": "execute_result"
    }
   ],
   "source": [
    "# defining the model\n",
    "\n",
    "# our inputs are of the form 28x28x1 (since it's greyscale, we only have a depth of 1)\n",
    "inputs = keras.Input(shape=(28, 28, 1))\n",
    "\n",
    "# feed into a Dense network\n",
    "x = layers.Dense(512, activation='relu')(inputs)\n",
    "x = layers.Dense(128, activation='relu')(x)\n",
    "x = layers.Dense(32, activation='relu')(x)\n",
    "x = layers.Flatten()(x) # flattening is done so that it can attach to the Dense\n",
    "\n",
    "# output layer has 10 nodes as we have 10 classes\n",
    "# softmax allows for the output to be interpreted as a probability\n",
    "outputs = layers.Dense(10, activation=\"softmax\")(x)\n",
    "model = keras.Model(inputs=inputs, outputs=outputs)\n",
    "\n",
    "model.compile(optimizer=\"rmsprop\",\n",
    "    loss=\"sparse_categorical_crossentropy\",\n",
    "    metrics=[\"accuracy\"])\n",
    "model.fit(train_images, train_labels, epochs=5, batch_size=128)"
   ]
  },
  {
   "cell_type": "code",
   "execution_count": 58,
   "metadata": {},
   "outputs": [
    {
     "name": "stdout",
     "output_type": "stream",
     "text": [
      "313/313 [==============================] - 5s 17ms/step - loss: 0.3003 - accuracy: 0.9173\n",
      "Test accuracy: 0.917\n",
      "0.1135\n"
     ]
    }
   ],
   "source": [
    "test_loss, test_acc = model.evaluate(test_images, test_labels)\n",
    "print(f\"Test accuracy: {test_acc:.3f}\")\n",
    "\n",
    "# dummy classifier \n",
    "unique_vals_test, counts_test = np.unique(test_labels, return_counts= True)\n",
    "print(np.max(counts_test)/test_labels.shape[0])"
   ]
  },
  {
   "cell_type": "markdown",
   "metadata": {},
   "source": [
    "Accuracy is at 0.917. This is the number of correct labels predicted by the model over the total number of observations in the data set. Given that our classes are relatively balanced, the dummy classifier (where it simply predicts the mode of the classes), we would attain an accuracy of 0.114. Our model does significantly better than a dummy classifier!"
   ]
  },
  {
   "cell_type": "code",
   "execution_count": 76,
   "metadata": {},
   "outputs": [
    {
     "name": "stdout",
     "output_type": "stream",
     "text": [
      "313/313 [==============================] - 5s 15ms/step\n"
     ]
    },
    {
     "data": {
      "text/plain": [
       "array([7, 2, 1, ..., 4, 5, 6])"
      ]
     },
     "execution_count": 76,
     "metadata": {},
     "output_type": "execute_result"
    }
   ],
   "source": [
    "y_pred = model.predict(test_images)"
   ]
  },
  {
   "cell_type": "code",
   "execution_count": 81,
   "metadata": {},
   "outputs": [
    {
     "name": "stdout",
     "output_type": "stream",
     "text": [
      "tf.Tensor(\n",
      "[[ 954    0    2    1    1    8    7    3    4    0]\n",
      " [   0 1120    4    1    0    1    4    1    4    0]\n",
      " [   5    2  955    8   10    6    8   13   22    3]\n",
      " [   2    0   19  918    1   23    2   18   21    6]\n",
      " [   1    0    7    0  935    0    2    5    9   23]\n",
      " [   7    1    3   27    9  801   11   11   19    3]\n",
      " [   7    3   12    1   10   16  901    3    5    0]\n",
      " [   1    7   20    3    5    1    0  979    0   12]\n",
      " [   5    6   10   13   12   18    5   10  887    8]\n",
      " [   8    7    1   12   30    5    0   33    9  904]], shape=(10, 10), dtype=int32)\n"
     ]
    }
   ],
   "source": [
    "y_pred_output = np.apply_along_axis(np.argmax, 1, y_pred)\n",
    "res = tf.math.confusion_matrix(test_labels, y_pred_output, num_classes= 10)\n",
    "print(res)"
   ]
  },
  {
   "cell_type": "markdown",
   "metadata": {},
   "source": [
    "(I'm assuming that the columns represent the actual labels, while the rows represent the predicted labels. The documentation of the confusion matrix seems quite sparse in details. https://www.tensorflow.org/api_docs/python/tf/math/confusion_matrix)\n",
    "\n",
    "It does not seem like our model is predicting any specific class more wrongly than any other classes. The maximum number of errors for 1 specific class is 30, out of 10,000 test cases.\n",
    "\n",
    "(I've unfortunately mismanaged my time a bit, so I don't really have the time to figure out the precision/recall for multiclass classification tasks. Although I have found this nice stackexchange question that seems to address my question:\n",
    "https://stats.stackexchange.com/questions/179835/how-to-build-a-confusion-matrix-for-a-multiclass-classifier)"
   ]
  }
 ],
 "metadata": {
  "kernelspec": {
   "display_name": "tensorflow_metal",
   "language": "python",
   "name": "python3"
  },
  "language_info": {
   "codemirror_mode": {
    "name": "ipython",
    "version": 3
   },
   "file_extension": ".py",
   "mimetype": "text/x-python",
   "name": "python",
   "nbconvert_exporter": "python",
   "pygments_lexer": "ipython3",
   "version": "3.10.10"
  }
 },
 "nbformat": 4,
 "nbformat_minor": 2
}
