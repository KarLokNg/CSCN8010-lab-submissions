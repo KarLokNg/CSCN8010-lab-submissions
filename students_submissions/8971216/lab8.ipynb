{
 "cells": [
  {
   "cell_type": "markdown",
   "metadata": {},
   "source": [
    "## Lab 8 ##\n",
    "\n",
    "Kar Lok Ng\n",
    "8971216"
   ]
  },
  {
   "cell_type": "markdown",
   "metadata": {},
   "source": [
    "### Pytorch Section ###"
   ]
  },
  {
   "cell_type": "code",
   "execution_count": 16,
   "metadata": {},
   "outputs": [],
   "source": [
    "import torch \n",
    "import numpy as np"
   ]
  },
  {
   "cell_type": "code",
   "execution_count": 28,
   "metadata": {},
   "outputs": [
    {
     "name": "stdout",
     "output_type": "stream",
     "text": [
      "Original vectors: \n",
      "tensor([0.8823, 0.9150, 0.3829])\n",
      "tensor([0.9593, 0.3904, 0.6009])\n",
      "Dot product of these two vectors: \n",
      "tensor(1.4337)\n",
      "\n",
      "Original matrices: \n",
      "tensor([[0.2566, 0.7936],\n",
      "        [0.9408, 0.1332]])\n",
      "tensor([[0.9346, 0.5936],\n",
      "        [0.8694, 0.5677]])\n",
      "Matrix multiplication of these matrices: \n",
      "tensor([[0.9298, 0.6029],\n",
      "        [0.9950, 0.6340]])\n"
     ]
    }
   ],
   "source": [
    "# Dot product of two vectors each of length 3\n",
    "torch.manual_seed(42)\n",
    "vect1 = torch.rand(3)\n",
    "vect2 = torch.rand(3)\n",
    "\n",
    "print(\"Original vectors: \")\n",
    "print(vect1)\n",
    "print(vect2)\n",
    "print(\"Dot product of these two vectors: \")\n",
    "print(torch.dot(vect1, vect2))\n",
    "print(\"\")\n",
    "\n",
    "# Matrix multiplication of two 2D matrices, each (2,2).\n",
    "mat1 = torch.rand(2,2)\n",
    "mat2 = torch.rand(2,2)\n",
    "\n",
    "print(\"Original matrices: \")\n",
    "print(mat1)\n",
    "print(mat2)\n",
    "print(\"Matrix multiplication of these matrices: \")\n",
    "print(torch.matmul(mat1, mat2))"
   ]
  },
  {
   "cell_type": "markdown",
   "metadata": {},
   "source": [
    "### Tensorflow Section ###"
   ]
  },
  {
   "cell_type": "code",
   "execution_count": 1,
   "metadata": {},
   "outputs": [],
   "source": [
    "import tensorflow as tf"
   ]
  },
  {
   "cell_type": "code",
   "execution_count": 16,
   "metadata": {},
   "outputs": [
    {
     "name": "stdout",
     "output_type": "stream",
     "text": [
      "Dot product of these two vectors: \n",
      "tf.Tensor(1.433691, shape=(), dtype=float32)\n",
      "\n",
      "Matrix mulitplication of these two matrices: \n",
      "tf.Tensor(\n",
      "[[0.9297742  0.6028445 ]\n",
      " [0.99507576 0.63407654]], shape=(2, 2), dtype=float32)\n",
      "tf.Tensor(\n",
      "[[0.9297742  0.6028445 ]\n",
      " [0.99507576 0.63407654]], shape=(2, 2), dtype=float32)\n"
     ]
    }
   ],
   "source": [
    "# Dot product of two vectors each of length 3\n",
    "vect1 = tf.constant([0.8823, 0.9150, 0.3829])\n",
    "vect2 = tf.constant([0.9593, 0.3904, 0.6009])\n",
    "\n",
    "print(\"Dot product of these two vectors: \")\n",
    "print(tf.tensordot(vect1, vect2, axes= 1))\n",
    "\n",
    "# Matrix multiplication of two 2D matrices.\n",
    "mat1 = tf.constant([[0.2566, 0.7936], [0.9408, 0.1332]])\n",
    "mat2 = tf.constant([[0.9346, 0.5936], [0.8694, 0.5677]])\n",
    "\n",
    "print(\"\")\n",
    "print(\"Matrix mulitplication of these two matrices: \")\n",
    "\n",
    "# Seems like there's 2 ways to do matrix multiplication in tf\n",
    "# Although the tensordot way seems a little strange to me\n",
    "# with the axes argument being a bit difficult to parse right now\n",
    "# Will look into it for the future.\n",
    "print(tf.tensordot(mat1, mat2, axes= [[1], [0]]))\n",
    "print(tf.linalg.matmul(mat1, mat2))"
   ]
  }
 ],
 "metadata": {
  "kernelspec": {
   "display_name": "tensorflow_metal",
   "language": "python",
   "name": "python3"
  },
  "language_info": {
   "codemirror_mode": {
    "name": "ipython",
    "version": 3
   },
   "file_extension": ".py",
   "mimetype": "text/x-python",
   "name": "python",
   "nbconvert_exporter": "python",
   "pygments_lexer": "ipython3",
   "version": "3.10.10"
  }
 },
 "nbformat": 4,
 "nbformat_minor": 2
}
